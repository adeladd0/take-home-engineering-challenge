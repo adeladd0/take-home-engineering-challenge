{
  "nbformat": 4,
  "nbformat_minor": 0,
  "metadata": {
    "colab": {
      "name": "Take Home Challenge.ipynb",
      "provenance": [],
      "authorship_tag": "ABX9TyMiii7bZ5FTWCbGTdSS7E9T",
      "include_colab_link": true
    },
    "kernelspec": {
      "name": "python3",
      "display_name": "Python 3"
    },
    "language_info": {
      "name": "python"
    },
    "accelerator": "GPU"
  },
  "cells": [
    {
      "cell_type": "markdown",
      "metadata": {
        "id": "view-in-github",
        "colab_type": "text"
      },
      "source": [
        "<a href=\"https://colab.research.google.com/github/adeladd0/take-home-engineering-challenge/blob/main/Take_Home_Challenge.ipynb\" target=\"_parent\"><img src=\"https://colab.research.google.com/assets/colab-badge.svg\" alt=\"Open In Colab\"/></a>"
      ]
    },
    {
      "cell_type": "markdown",
      "source": [
        "The Problem\n",
        "Our San Francisco team loves to eat. They are also a team that loves variety, so they also like to discover new places to eat.\n",
        "\n",
        "In fact, we have a particular affection for food trucks. One of the great things about Food Trucks in San Francisco is that the city releases a list of them as open data.\n",
        "\n",
        "Your assignment is to make it possible for us to find a food truck no matter where our work takes us in the city.\n",
        "\n",
        "This is a freeform assignment. You can write a web API that returns a set of food trucks (our team is fluent in JSON). You can write a web frontend that visualizes the nearby food trucks. We also spend a lot of time in the shell, so a CLI that gives us a couple of local options would be great. And don't be constrained by these ideas if you have a better one!\n",
        "\n",
        "The only requirement for the assignment is that it give us at least 5 food trucks to choose from a particular latitude and longitude.\n",
        "\n",
        "Feel free to tackle this problem in a way that demonstrates your expertise of an area -- or takes you out of your comfort zone. For example, if you build Web APIs by day and want to build a frontend to the problem or a completely different language instead, by all means go for it - learning is a core competency in our group. Let us know this context in your solution's documentation.\n",
        "\n",
        "San Francisco's food truck open dataset is located here and there is an endpoint with a CSV dump of the latest data here. We've included a copy of this data in this repo as well.\n",
        "\n",
        "Good luck! Please send a link to your solution on Github back to us at least 12 hours before your interview so we can review it before we speak."
      ],
      "metadata": {
        "id": "8AydP0R2MX61"
      }
    },
    {
      "cell_type": "code",
      "source": [
        "#@title Install dependencies\n",
        "from IPython.display import clear_output\n",
        "!pip install fastapi nest-asyncio pyngrok uvicorn fsspec\n",
        "clear_output()"
      ],
      "metadata": {
        "id": "XHlZfkrKhphA",
        "cellView": "form"
      },
      "execution_count": 1,
      "outputs": []
    },
    {
      "cell_type": "code",
      "source": [
        "#@title Import Libraries\n",
        "import pandas as pd\n",
        "from sklearn.metrics.pairwise import haversine_distances\n",
        "from math import radians\n",
        "import numpy as np\n",
        "import json,os\n",
        "from typing import Union , List\n",
        "from fastapi import FastAPI\n",
        "from fastapi.testclient import TestClient\n",
        "import nest_asyncio\n",
        "from pyngrok import ngrok\n",
        "import uvicorn\n",
        "from pydantic import BaseModel\n",
        "from os.path import exists"
      ],
      "metadata": {
        "cellView": "form",
        "id": "TTLHAfexNu0G"
      },
      "execution_count": 2,
      "outputs": []
    },
    {
      "cell_type": "code",
      "source": [
        "#@title Constants\n",
        "dataset_path='https://data.sfgov.org/api/views/rqzj-sfat/rows.csv'\n",
        "pickled_dataset_path=\"./foodtrucks.pkl\"\n",
        "RESPONSE_CODE_SUCCESS=\"01\"\n",
        "RESPONSE_CODE_NO_FOOD_TRUCKS=\"100\"\n",
        "SUCCESS=\"Successfully retrieved data\" \n",
        "NO_FOOD_TRUCKS=\"There are no food trucks at this time. Please try next time\"\n",
        "WELCOME=\"Welcome to Food truck Service\""
      ],
      "metadata": {
        "cellView": "form",
        "id": "huxNv0AuUuEA"
      },
      "execution_count": 3,
      "outputs": []
    },
    {
      "cell_type": "code",
      "source": [
        "#@title Load Dataset\n",
        "def load_dataset(path=dataset_path):\n",
        "    try:\n",
        "        return pd.read_csv(path)\n",
        "    except:\n",
        "        print('Could not load dataset')    \n",
        "\n",
        "def pickle_dataframe(df,file=pickled_dataset_path):\n",
        "    df.to_pickle(file)\n",
        "       \n",
        "\n",
        "def load_pickled_data(file=pickled_dataset_path):\n",
        "    try:\n",
        "     return pd.read_pickle(file)\n",
        "    except (FileNotFoundError, IOError):\n",
        "        print('Pickled data not found') \n",
        "\n",
        "def load_data():\n",
        "    if exists(pickled_dataset_path):\n",
        "       return load_pickled_data()\n",
        "    else:\n",
        "       df=load_dataset()\n",
        "       if df:\n",
        "          pickle_dataframe(df)\n",
        "       return df \n",
        "          "
      ],
      "metadata": {
        "cellView": "form",
        "id": "S6MlyVxSMZox"
      },
      "execution_count": 4,
      "outputs": []
    },
    {
      "cell_type": "code",
      "source": [
        "#@title Compute distance between users location and available food trucks\n",
        "def compute_distance(location,destination=(37.762019,-122.415945)):\n",
        "    X = [[radians(destination[0]), radians(destination[1])], [radians(location[0]), radians(location[1])]]\n",
        "    result = haversine_distances(X)\n",
        "    result * 6371000/1000  # multiply by Earth radius to get kilometers\n",
        "    distance=np.array(result).item(1)\n",
        "    #print('distance using sklearn: ', distance)\n",
        "    return distance    "
      ],
      "metadata": {
        "id": "ZhWbnx8-QJgO",
        "cellView": "form"
      },
      "execution_count": 5,
      "outputs": []
    },
    {
      "cell_type": "code",
      "source": [
        "#@title Get nearest food truck spots \n",
        "def get_nearest_food_trucks(latitude,longitude):\n",
        "    df=load_data()\n",
        "    if df is not None:\n",
        "       df['Distance']=df.apply(lambda x: compute_distance(location=(x.Latitude,x.Longitude),destination=(latitude,longitude)), axis=1)\n",
        "       return df.sort_values(by=['Distance'], ascending=True).head(5)\n",
        "\n",
        "def get_nearest_food_trucks_as_json(latitude,longitude):\n",
        "    sorted_df=get_nearest_food_trucks(latitude,longitude)\n",
        "    if sorted_df is not None:\n",
        "      json_data = sorted_df.to_json(orient='records')\n",
        "      response = json.loads(json_data)\n",
        "      return response    \n",
        "\n",
        "def display_nearest_food_trucks(latitude,longitude):\n",
        "    sorted_df=get_nearest_food_trucks(latitude,longitude)\n",
        "    if sorted_df is not None:\n",
        "        columns=[\"locationid\",\"LocationDescription\",\"Address\",\"FoodItems\",\"dayshours\",\"Distance\"]\n",
        "        results=sorted_df[columns]\n",
        "        results.columns=[\"locationId\",\"locationDescription\",\"address\",\"foodItems\",\"daysHours\",\"distance\"]\n",
        "        json_data = results.to_json(orient='records')\n",
        "        return json.loads(json_data)"
      ],
      "metadata": {
        "id": "fg_drdXAXpNc",
        "cellView": "form"
      },
      "execution_count": 6,
      "outputs": []
    },
    {
      "cell_type": "code",
      "source": [
        "auth_token = \"\" #@param {type:\"string\"}\n",
        "os.system(f\"ngrok authtoken {auth_token}\")"
      ],
      "metadata": {
        "colab": {
          "base_uri": "https://localhost:8080/"
        },
        "id": "9c8Ylf332Nwu",
        "outputId": "3f25be96-5ee4-47b0-c20d-8266196f64e4",
        "cellView": "form"
      },
      "execution_count": 7,
      "outputs": [
        {
          "output_type": "execute_result",
          "data": {
            "text/plain": [
              "0"
            ]
          },
          "metadata": {},
          "execution_count": 7
        }
      ]
    },
    {
      "cell_type": "code",
      "source": [
        "#@title Response Body\n",
        "class Request(BaseModel):\n",
        "    longitude: float\n",
        "    latitude: float\n",
        "\n",
        "class Data(BaseModel):\n",
        "     locationId: Union[int, None] = None\n",
        "     locationDescription: Union[str, None] = None\n",
        "     address: Union[str, None] = None\n",
        "     foodItems : Union[str, None] = None\n",
        "     daysHours: Union[str, None] = None\n",
        "     distance: Union[float, None] = None\n",
        "\n",
        "class FoodTruck(BaseModel):\n",
        "    responseCode: str\n",
        "    responseMessage: str\n",
        "    data:  Union[List[Data], None] = None"
      ],
      "metadata": {
        "cellView": "form",
        "id": "0rMGDIRxy6CM"
      },
      "execution_count": 8,
      "outputs": []
    },
    {
      "cell_type": "code",
      "source": [
        "#@title Apis to expose endpoints\n",
        "app = FastAPI()\n",
        "\n",
        "@app.get(\"/\")\n",
        "def home():\n",
        "    return {\"response\": WELCOME}\n",
        "\n",
        "@app.post(\"/foodtrucks/\",response_model=FoodTruck)\n",
        "def load_trucks(request: Request):\n",
        "    data=display_nearest_food_trucks(request.latitude,request.longitude)\n",
        "    responseCode=RESPONSE_CODE_SUCCESS if data else RESPONSE_CODE_NO_FOOD_TRUCKS\n",
        "    responseMessage=SUCCESS if data else NO_FOOD_TRUCKS \n",
        "    res={\"responseCode\": responseCode,\"responseMessage\": responseMessage,\"data\":data }\n",
        "    print(\"RESPONSE \",res)\n",
        "    return res        \n"
      ],
      "metadata": {
        "id": "RwvveC-1dVoq",
        "cellView": "form"
      },
      "execution_count": 9,
      "outputs": []
    },
    {
      "cell_type": "code",
      "source": [
        "#@title Test Apis\n",
        "client = TestClient(app)\n",
        "\n",
        "def test_home():\n",
        "    response = client.get(\"/\")\n",
        "    assert response.status_code == 200\n",
        "    assert response.json() == {\"response\": WELCOME}\n",
        "\n",
        "def test_load_trucks():\n",
        "    response = client.post(\"/foodtrucks/\",\n",
        "        json={ \"longitude\": 50.45,\"latitude\": 0.2045})\n",
        "    assert response.status_code == 200\n",
        "    assert response.json()[\"responseCode\"] == RESPONSE_CODE_SUCCESS if response.json()[\"data\"] else RESPONSE_CODE_NO_FOOD_TRUCKS\n",
        "\n",
        "test_home()\n",
        "test_load_trucks()    "
      ],
      "metadata": {
        "colab": {
          "base_uri": "https://localhost:8080/"
        },
        "cellView": "form",
        "id": "hWLhh6EB4v0J",
        "outputId": "ada45760-705c-4694-9613-ffdc8aaa76f7"
      },
      "execution_count": 10,
      "outputs": [
        {
          "output_type": "stream",
          "name": "stdout",
          "text": [
            "RESPONSE  {'responseCode': '01', 'responseMessage': 'Successfully retrieved data', 'data': [{'locationId': 1577173, 'locationDescription': 'OTIS ST: GOUGH ST \\\\ MCCOPPIN ST to 13TH ST \\\\ DUBOCE AVE \\\\ HWY 101 NORTHBOUND RAMP \\\\ MISSION ST (100 - 199)', 'address': '170 OTIS ST', 'foodItems': 'Cold Truck: Breakfast: Sandwiches: Salads: Pre-Packaged Snacks: Beverages', 'daysHours': None, 'distance': 0.8805238676}, {'locationId': 1343454, 'locationDescription': 'HOOPER ST: 07TH ST to 08TH ST (100 - 199)', 'address': 'Assessors Block /Lot', 'foodItems': 'tacos: burritos: quesadilla: tortas sodas', 'daysHours': None, 'distance': 0.8805238676}, {'locationId': 1337457, 'locationDescription': 'OFARRELL ST: BRODERICK ST to SAINT JOSEPHS AVE (2200 - 2299)', 'address': '2200 OFARRELL ST', 'foodItems': 'Cold Truck: Pre-packaged sandwiches: snacks: fruit: various beverages', 'daysHours': None, 'distance': 0.8805238676}, {'locationId': 1336743, 'locationDescription': 'ALANA WAY: COUNTY LINE intersection', 'address': '151 EXECUTIVE PARK BLVD', 'foodItems': 'Cold Truck: Soft drinks: cup cakes: potato chips: cookies: gum: sandwiches (hot & cold): peanuts: muffins: coff (hot & cold): water: juice: yoplait: milk: orange juice: sunflower seeds: can foods: burritos: buscuits: chimichangas: rice krispies', 'daysHours': None, 'distance': 0.8805238676}, {'locationId': 1568951, 'locationDescription': 'PINE ST: SANSOME ST to CENTURY PL (300 - 340)', 'address': '300 PINE ST', 'foodItems': 'Filipino fusion food: tacos: burritos: nachos: rice plates. Various beverages.', 'daysHours': None, 'distance': 0.8805238676}]}\n"
          ]
        }
      ]
    },
    {
      "cell_type": "code",
      "source": [
        "#@title Serve Api\n",
        "ngrok_tunnel= ngrok.connect(8000, port='8000', bind_tls=True)\n",
        "public_url=ngrok_tunnel.public_url\n",
        "nest_asyncio.apply()\n",
        "print('Public URL:', ngrok_tunnel)\n",
        "print('Api documentation URL:', public_url+\"/redoc\")\n",
        "print('Swagger URL:', public_url+\"/docs\")"
      ],
      "metadata": {
        "colab": {
          "base_uri": "https://localhost:8080/"
        },
        "id": "8oEaL-gx-dcv",
        "outputId": "1fe0d1a1-a2bb-482f-90fe-3d1e829160ab",
        "cellView": "form"
      },
      "execution_count": 11,
      "outputs": [
        {
          "output_type": "stream",
          "name": "stdout",
          "text": [
            "Public URL: NgrokTunnel: \"https://0f11-34-90-71-4.ngrok.io\" -> \"http://localhost:8000\"\n",
            "Api documentation URL: https://0f11-34-90-71-4.ngrok.io/redoc\n",
            "Swagger URL: https://0f11-34-90-71-4.ngrok.io/docs\n"
          ]
        }
      ]
    },
    {
      "cell_type": "code",
      "source": [
        "uvicorn.run(app,port=8000)"
      ],
      "metadata": {
        "id": "Lb_ulJBDG79w"
      },
      "execution_count": null,
      "outputs": []
    },
    {
      "cell_type": "code",
      "source": [
        "#ngrok.disconnect(public_url=public_url)"
      ],
      "metadata": {
        "id": "nat74B6rnHah"
      },
      "execution_count": 12,
      "outputs": []
    }
  ]
}